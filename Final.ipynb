{
 "cells": [
  {
   "cell_type": "code",
   "execution_count": 2,
   "metadata": {},
   "outputs": [],
   "source": [
    "import os, re\n",
    "import pandas as pd\n",
    "import numpy as np\n",
    "from collections import defaultdict\n",
    "from sklearn.feature_extraction.text import TfidfVectorizer\n",
    "from nltk.corpus import stopwords\n",
    "import math\n",
    "from math import log\n",
    "from tqdm import tqdm_notebook as tqdm\n",
    "from scipy import spatial\n",
    "from gensim.models.doc2vec import Doc2Vec, TaggedDocument\n",
    "import pickle\n",
    "import json\n",
    "import scipy.sparse"
   ]
  },
  {
   "cell_type": "code",
   "execution_count": 3,
   "metadata": {
    "collapsed": true
   },
   "outputs": [],
   "source": [
    "import pymorphy2\n",
    "morph = pymorphy2.MorphAnalyzer()"
   ]
  },
  {
   "cell_type": "code",
   "execution_count": 4,
   "metadata": {
    "collapsed": true
   },
   "outputs": [],
   "source": [
    "def get_dls(corpus):\n",
    "    dls = []\n",
    "    \n",
    "    for text in tqdm(corpus):\n",
    "        dls.append(len(text))\n",
    "        \n",
    "    avgdl = np.mean(dls)\n",
    "    N = len(dls)\n",
    "    \n",
    "    return dls, avgdl, N"
   ]
  },
  {
   "cell_type": "code",
   "execution_count": 5,
   "metadata": {
    "collapsed": true
   },
   "outputs": [],
   "source": [
    "def preprocessing(query, stopwords):\n",
    "    text = re.sub(r'[^\\w\\s]',' ',query).split()\n",
    "    new_text = []\n",
    "    for word in text:\n",
    "        lemma = morph.parse(word)[0].normal_form\n",
    "        if lemma not in stopwords:\n",
    "            new_text.append(lemma)\n",
    "    return ' '.join(new_text)"
   ]
  },
  {
   "cell_type": "code",
   "execution_count": 6,
   "metadata": {
    "collapsed": true
   },
   "outputs": [],
   "source": [
    "data = pd.read_csv('data.csv', sep='\\t')"
   ]
  },
  {
   "cell_type": "code",
   "execution_count": 7,
   "metadata": {
    "collapsed": true
   },
   "outputs": [],
   "source": [
    "data = data.fillna('')"
   ]
  },
  {
   "cell_type": "code",
   "execution_count": 8,
   "metadata": {},
   "outputs": [
    {
     "data": {
      "text/html": [
       "<div>\n",
       "<style>\n",
       "    .dataframe thead tr:only-child th {\n",
       "        text-align: right;\n",
       "    }\n",
       "\n",
       "    .dataframe thead th {\n",
       "        text-align: left;\n",
       "    }\n",
       "\n",
       "    .dataframe tbody tr th {\n",
       "        vertical-align: top;\n",
       "    }\n",
       "</style>\n",
       "<table border=\"1\" class=\"dataframe\">\n",
       "  <thead>\n",
       "    <tr style=\"text-align: right;\">\n",
       "      <th></th>\n",
       "      <th>address</th>\n",
       "      <th>name</th>\n",
       "      <th>title</th>\n",
       "      <th>График работы</th>\n",
       "      <th>Опыт работы</th>\n",
       "      <th>Сфера деятельности</th>\n",
       "      <th>text</th>\n",
       "    </tr>\n",
       "  </thead>\n",
       "  <tbody>\n",
       "    <tr>\n",
       "      <th>0</th>\n",
       "      <td>Москва, м. Бульвар Дмитрия Донского, Старокача...</td>\n",
       "      <td>menedzher_-konsultant_951375511</td>\n",
       "      <td>Менеджер -консультант</td>\n",
       "      <td>полный день</td>\n",
       "      <td>не имеет значения</td>\n",
       "      <td>Продажи</td>\n",
       "      <td>Компании Мастер-трон  требуется офис менеджер....</td>\n",
       "    </tr>\n",
       "    <tr>\n",
       "      <th>1</th>\n",
       "      <td></td>\n",
       "      <td>ohrannik_v_tts_vodnyy_1201120983</td>\n",
       "      <td>Охранник в ТЦ Водный</td>\n",
       "      <td>сменный график</td>\n",
       "      <td>не имеет значения</td>\n",
       "      <td>Охрана, безопасность</td>\n",
       "      <td></td>\n",
       "    </tr>\n",
       "    <tr>\n",
       "      <th>2</th>\n",
       "      <td>Москва, м. Дмитровская, Складочная улица, 1с13</td>\n",
       "      <td>uborka_ofisa_1535259521</td>\n",
       "      <td>Уборка офиса</td>\n",
       "      <td></td>\n",
       "      <td></td>\n",
       "      <td></td>\n",
       "      <td>Требуется сотрудник для уборки офисного помеще...</td>\n",
       "    </tr>\n",
       "    <tr>\n",
       "      <th>3</th>\n",
       "      <td>м. Охотный ряд,  \\n Москва</td>\n",
       "      <td>naborschik_zakazov_1502732417</td>\n",
       "      <td>Наборщик заказов</td>\n",
       "      <td>сменный график</td>\n",
       "      <td>более 1 года</td>\n",
       "      <td>Транспорт, логистика</td>\n",
       "      <td></td>\n",
       "    </tr>\n",
       "    <tr>\n",
       "      <th>4</th>\n",
       "      <td>Москва, м. Нахимовский проспект, Нахимовский п...</td>\n",
       "      <td>voditel_taksi_1394522421</td>\n",
       "      <td>Водитель такси</td>\n",
       "      <td>сменный график</td>\n",
       "      <td>более 3 лет</td>\n",
       "      <td>Автомобильный бизнес</td>\n",
       "      <td></td>\n",
       "    </tr>\n",
       "  </tbody>\n",
       "</table>\n",
       "</div>"
      ],
      "text/plain": [
       "                                             address  \\\n",
       "0  Москва, м. Бульвар Дмитрия Донского, Старокача...   \n",
       "1                                                      \n",
       "2     Москва, м. Дмитровская, Складочная улица, 1с13   \n",
       "3                         м. Охотный ряд,  \\n Москва   \n",
       "4  Москва, м. Нахимовский проспект, Нахимовский п...   \n",
       "\n",
       "                               name                  title   График работы  \\\n",
       "0   menedzher_-konsultant_951375511  Менеджер -консультант     полный день   \n",
       "1  ohrannik_v_tts_vodnyy_1201120983   Охранник в ТЦ Водный  сменный график   \n",
       "2           uborka_ofisa_1535259521           Уборка офиса                   \n",
       "3     naborschik_zakazov_1502732417       Наборщик заказов  сменный график   \n",
       "4          voditel_taksi_1394522421         Водитель такси  сменный график   \n",
       "\n",
       "         Опыт работы    Сфера деятельности  \\\n",
       "0  не имеет значения               Продажи   \n",
       "1  не имеет значения  Охрана, безопасность   \n",
       "2                                            \n",
       "3       более 1 года  Транспорт, логистика   \n",
       "4        более 3 лет  Автомобильный бизнес   \n",
       "\n",
       "                                                text  \n",
       "0  Компании Мастер-трон  требуется офис менеджер....  \n",
       "1                                                     \n",
       "2  Требуется сотрудник для уборки офисного помеще...  \n",
       "3                                                     \n",
       "4                                                     "
      ]
     },
     "execution_count": 8,
     "metadata": {},
     "output_type": "execute_result"
    }
   ],
   "source": [
    "data.head()"
   ]
  },
  {
   "cell_type": "code",
   "execution_count": 9,
   "metadata": {},
   "outputs": [
    {
     "data": {
      "text/plain": [
       "A Jupyter Widget"
      ]
     },
     "metadata": {},
     "output_type": "display_data"
    },
    {
     "name": "stdout",
     "output_type": "stream",
     "text": [
      "\n"
     ]
    }
   ],
   "source": [
    "corpus = []\n",
    "russian_stopwords = set(stopwords.words('russian'))\n",
    "for index, row in tqdm(data.iterrows()):\n",
    "   # print(row)\n",
    "    text = ' '.join(row[['title', 'text']])\n",
    "    corpus.append(preprocessing(text, russian_stopwords))"
   ]
  },
  {
   "cell_type": "code",
   "execution_count": 10,
   "metadata": {
    "collapsed": true
   },
   "outputs": [],
   "source": [
    "with open('data_prep.txt', 'w', encoding='utf-8') as f:\n",
    "    corpus_text = '\\n'.join(corpus)\n",
    "    f.write(corpus_text)"
   ]
  },
  {
   "cell_type": "code",
   "execution_count": 11,
   "metadata": {},
   "outputs": [
    {
     "data": {
      "text/plain": [
       "A Jupyter Widget"
      ]
     },
     "metadata": {},
     "output_type": "display_data"
    },
    {
     "name": "stdout",
     "output_type": "stream",
     "text": [
      "\n"
     ]
    }
   ],
   "source": [
    "dls, avgdl, N = get_dls(corpus)"
   ]
  },
  {
   "cell_type": "markdown",
   "metadata": {},
   "source": [
    "## ОБРАТНЫЙ ИНДЕКС"
   ]
  },
  {
   "cell_type": "code",
   "execution_count": 12,
   "metadata": {
    "collapsed": true
   },
   "outputs": [],
   "source": [
    "def create_matrix(corpus):\n",
    "    vectorizer = TfidfVectorizer()\n",
    "    vectorizer.fit_transform(corpus)\n",
    "    with open ('vectorizer', 'wb') as f:\n",
    "        pickle.dump(vectorizer, f)\n",
    "    \n",
    "    vocabulary = vectorizer.vocabulary_.keys()\n",
    "    print(len(vocabulary))\n",
    "    matrix = pd.DataFrame(0, index=np.arange(N), columns=vocabulary)\n",
    "    for word in tqdm(vocabulary):\n",
    "        column = [len(re.findall(word, doc)) for doc in corpus]\n",
    "        matrix[word] = column \n",
    "\n",
    "    return matrix, vocabulary"
   ]
  },
  {
   "cell_type": "code",
   "execution_count": 149,
   "metadata": {},
   "outputs": [
    {
     "data": {
      "text/plain": [
       "array([ 6.62401751,  5.74854877,  7.54030824, ...,  7.13484313,\n",
       "        7.54030824,  7.54030824])"
      ]
     },
     "execution_count": 149,
     "metadata": {},
     "output_type": "execute_result"
    }
   ],
   "source": [
    "#vectorizer.idf_"
   ]
  },
  {
   "cell_type": "code",
   "execution_count": 13,
   "metadata": {
    "scrolled": true
   },
   "outputs": [
    {
     "name": "stdout",
     "output_type": "stream",
     "text": [
      "16533\n"
     ]
    },
    {
     "data": {
      "text/plain": [
       "A Jupyter Widget"
      ]
     },
     "metadata": {},
     "output_type": "display_data"
    },
    {
     "name": "stdout",
     "output_type": "stream",
     "text": [
      "\n"
     ]
    }
   ],
   "source": [
    "matrix, vocabulary = create_matrix(corpus)"
   ]
  },
  {
   "cell_type": "code",
   "execution_count": 22,
   "metadata": {
    "scrolled": true
   },
   "outputs": [
    {
     "data": {
      "text/html": [
       "<div>\n",
       "<style>\n",
       "    .dataframe thead tr:only-child th {\n",
       "        text-align: right;\n",
       "    }\n",
       "\n",
       "    .dataframe thead th {\n",
       "        text-align: left;\n",
       "    }\n",
       "\n",
       "    .dataframe tbody tr th {\n",
       "        vertical-align: top;\n",
       "    }\n",
       "</style>\n",
       "<table border=\"1\" class=\"dataframe\">\n",
       "  <thead>\n",
       "    <tr style=\"text-align: right;\">\n",
       "      <th></th>\n",
       "      <th>менеджер</th>\n",
       "      <th>консультант</th>\n",
       "      <th>компания</th>\n",
       "      <th>мастер</th>\n",
       "      <th>трон</th>\n",
       "      <th>требоваться</th>\n",
       "      <th>офис</th>\n",
       "      <th>требование</th>\n",
       "      <th>грамотный</th>\n",
       "      <th>речь</th>\n",
       "      <th>...</th>\n",
       "      <th>петербургский</th>\n",
       "      <th>клубника</th>\n",
       "      <th>провозить</th>\n",
       "      <th>гортранспросервис</th>\n",
       "      <th>штурмовой</th>\n",
       "      <th>зажигаться</th>\n",
       "      <th>циклический</th>\n",
       "      <th>терпеливо</th>\n",
       "      <th>полно</th>\n",
       "      <th>дотошность</th>\n",
       "    </tr>\n",
       "  </thead>\n",
       "  <tbody>\n",
       "    <tr>\n",
       "      <th>0</th>\n",
       "      <td>2</td>\n",
       "      <td>1</td>\n",
       "      <td>1</td>\n",
       "      <td>1</td>\n",
       "      <td>1</td>\n",
       "      <td>1</td>\n",
       "      <td>1</td>\n",
       "      <td>1</td>\n",
       "      <td>1</td>\n",
       "      <td>1</td>\n",
       "      <td>...</td>\n",
       "      <td>0</td>\n",
       "      <td>0</td>\n",
       "      <td>0</td>\n",
       "      <td>0</td>\n",
       "      <td>0</td>\n",
       "      <td>0</td>\n",
       "      <td>0</td>\n",
       "      <td>0</td>\n",
       "      <td>0</td>\n",
       "      <td>0</td>\n",
       "    </tr>\n",
       "    <tr>\n",
       "      <th>1</th>\n",
       "      <td>0</td>\n",
       "      <td>0</td>\n",
       "      <td>0</td>\n",
       "      <td>0</td>\n",
       "      <td>0</td>\n",
       "      <td>0</td>\n",
       "      <td>0</td>\n",
       "      <td>0</td>\n",
       "      <td>0</td>\n",
       "      <td>0</td>\n",
       "      <td>...</td>\n",
       "      <td>0</td>\n",
       "      <td>0</td>\n",
       "      <td>0</td>\n",
       "      <td>0</td>\n",
       "      <td>0</td>\n",
       "      <td>0</td>\n",
       "      <td>0</td>\n",
       "      <td>0</td>\n",
       "      <td>0</td>\n",
       "      <td>0</td>\n",
       "    </tr>\n",
       "    <tr>\n",
       "      <th>2</th>\n",
       "      <td>0</td>\n",
       "      <td>0</td>\n",
       "      <td>0</td>\n",
       "      <td>0</td>\n",
       "      <td>0</td>\n",
       "      <td>1</td>\n",
       "      <td>2</td>\n",
       "      <td>0</td>\n",
       "      <td>0</td>\n",
       "      <td>0</td>\n",
       "      <td>...</td>\n",
       "      <td>0</td>\n",
       "      <td>0</td>\n",
       "      <td>0</td>\n",
       "      <td>0</td>\n",
       "      <td>0</td>\n",
       "      <td>0</td>\n",
       "      <td>0</td>\n",
       "      <td>0</td>\n",
       "      <td>0</td>\n",
       "      <td>0</td>\n",
       "    </tr>\n",
       "    <tr>\n",
       "      <th>3</th>\n",
       "      <td>0</td>\n",
       "      <td>0</td>\n",
       "      <td>0</td>\n",
       "      <td>0</td>\n",
       "      <td>0</td>\n",
       "      <td>0</td>\n",
       "      <td>0</td>\n",
       "      <td>0</td>\n",
       "      <td>0</td>\n",
       "      <td>0</td>\n",
       "      <td>...</td>\n",
       "      <td>0</td>\n",
       "      <td>0</td>\n",
       "      <td>0</td>\n",
       "      <td>0</td>\n",
       "      <td>0</td>\n",
       "      <td>0</td>\n",
       "      <td>0</td>\n",
       "      <td>0</td>\n",
       "      <td>0</td>\n",
       "      <td>0</td>\n",
       "    </tr>\n",
       "    <tr>\n",
       "      <th>4</th>\n",
       "      <td>0</td>\n",
       "      <td>0</td>\n",
       "      <td>0</td>\n",
       "      <td>0</td>\n",
       "      <td>0</td>\n",
       "      <td>0</td>\n",
       "      <td>0</td>\n",
       "      <td>0</td>\n",
       "      <td>0</td>\n",
       "      <td>0</td>\n",
       "      <td>...</td>\n",
       "      <td>0</td>\n",
       "      <td>0</td>\n",
       "      <td>0</td>\n",
       "      <td>0</td>\n",
       "      <td>0</td>\n",
       "      <td>0</td>\n",
       "      <td>0</td>\n",
       "      <td>0</td>\n",
       "      <td>0</td>\n",
       "      <td>0</td>\n",
       "    </tr>\n",
       "  </tbody>\n",
       "</table>\n",
       "<p>5 rows × 16533 columns</p>\n",
       "</div>"
      ],
      "text/plain": [
       "   менеджер  консультант  компания  мастер  трон  требоваться  офис  \\\n",
       "0         2            1         1       1     1            1     1   \n",
       "1         0            0         0       0     0            0     0   \n",
       "2         0            0         0       0     0            1     2   \n",
       "3         0            0         0       0     0            0     0   \n",
       "4         0            0         0       0     0            0     0   \n",
       "\n",
       "   требование  грамотный  речь     ...      петербургский  клубника  \\\n",
       "0           1          1     1     ...                  0         0   \n",
       "1           0          0     0     ...                  0         0   \n",
       "2           0          0     0     ...                  0         0   \n",
       "3           0          0     0     ...                  0         0   \n",
       "4           0          0     0     ...                  0         0   \n",
       "\n",
       "   провозить  гортранспросервис  штурмовой  зажигаться  циклический  \\\n",
       "0          0                  0          0           0            0   \n",
       "1          0                  0          0           0            0   \n",
       "2          0                  0          0           0            0   \n",
       "3          0                  0          0           0            0   \n",
       "4          0                  0          0           0            0   \n",
       "\n",
       "   терпеливо  полно  дотошность  \n",
       "0          0      0           0  \n",
       "1          0      0           0  \n",
       "2          0      0           0  \n",
       "3          0      0           0  \n",
       "4          0      0           0  \n",
       "\n",
       "[5 rows x 16533 columns]"
      ]
     },
     "execution_count": 22,
     "metadata": {},
     "output_type": "execute_result"
    }
   ],
   "source": [
    "matrix.head()"
   ]
  },
  {
   "cell_type": "code",
   "execution_count": 23,
   "metadata": {
    "collapsed": true
   },
   "outputs": [],
   "source": [
    "sparse_matrix = 0"
   ]
  },
  {
   "cell_type": "code",
   "execution_count": 24,
   "metadata": {},
   "outputs": [
    {
     "data": {
      "text/plain": [
       "0"
      ]
     },
     "execution_count": 24,
     "metadata": {},
     "output_type": "execute_result"
    }
   ],
   "source": [
    "sparse_matrix"
   ]
  },
  {
   "cell_type": "code",
   "execution_count": 18,
   "metadata": {
    "collapsed": true
   },
   "outputs": [],
   "source": [
    "scipy.sparse.save_npz('matrix.npz', sparse_matrix)"
   ]
  },
  {
   "cell_type": "code",
   "execution_count": 19,
   "metadata": {
    "collapsed": true
   },
   "outputs": [],
   "source": [
    "sparse_matrix = scipy.sparse.load_npz('matrix.npz')"
   ]
  },
  {
   "cell_type": "code",
   "execution_count": 20,
   "metadata": {},
   "outputs": [
    {
     "ename": "KeyboardInterrupt",
     "evalue": "",
     "traceback": [
      "\u001b[1;31m---------------------------------------------------------------------------\u001b[0m",
      "\u001b[1;31mKeyError\u001b[0m                                  Traceback (most recent call last)",
      "\u001b[1;32m~\\A3\\lib\\site-packages\\pandas\\core\\indexes\\base.py\u001b[0m in \u001b[0;36mget_loc\u001b[1;34m(self, key, method, tolerance)\u001b[0m\n\u001b[0;32m   2441\u001b[0m             \u001b[1;32mtry\u001b[0m\u001b[1;33m:\u001b[0m\u001b[1;33m\u001b[0m\u001b[0m\n\u001b[1;32m-> 2442\u001b[1;33m                 \u001b[1;32mreturn\u001b[0m \u001b[0mself\u001b[0m\u001b[1;33m.\u001b[0m\u001b[0m_engine\u001b[0m\u001b[1;33m.\u001b[0m\u001b[0mget_loc\u001b[0m\u001b[1;33m(\u001b[0m\u001b[0mkey\u001b[0m\u001b[1;33m)\u001b[0m\u001b[1;33m\u001b[0m\u001b[0m\n\u001b[0m\u001b[0;32m   2443\u001b[0m             \u001b[1;32mexcept\u001b[0m \u001b[0mKeyError\u001b[0m\u001b[1;33m:\u001b[0m\u001b[1;33m\u001b[0m\u001b[0m\n",
      "\u001b[1;32mpandas\\_libs\\index.pyx\u001b[0m in \u001b[0;36mpandas._libs.index.IndexEngine.get_loc\u001b[1;34m()\u001b[0m\n",
      "\u001b[1;32mpandas\\_libs\\index.pyx\u001b[0m in \u001b[0;36mpandas._libs.index.IndexEngine.get_loc\u001b[1;34m()\u001b[0m\n",
      "\u001b[1;32mpandas\\_libs\\hashtable_class_helper.pxi\u001b[0m in \u001b[0;36mpandas._libs.hashtable.Int64HashTable.get_item\u001b[1;34m()\u001b[0m\n",
      "\u001b[1;32mpandas\\_libs\\hashtable_class_helper.pxi\u001b[0m in \u001b[0;36mpandas._libs.hashtable.Int64HashTable.get_item\u001b[1;34m()\u001b[0m\n",
      "\u001b[1;31mKeyError\u001b[0m: 5720",
      "\nDuring handling of the above exception, another exception occurred:\n",
      "\u001b[1;31mKeyError\u001b[0m                                  Traceback (most recent call last)",
      "\u001b[1;32m~\\A3\\lib\\site-packages\\pandas\\core\\internals.py\u001b[0m in \u001b[0;36mset\u001b[1;34m(self, item, value, check)\u001b[0m\n\u001b[0;32m   3714\u001b[0m         \u001b[1;32mtry\u001b[0m\u001b[1;33m:\u001b[0m\u001b[1;33m\u001b[0m\u001b[0m\n\u001b[1;32m-> 3715\u001b[1;33m             \u001b[0mloc\u001b[0m \u001b[1;33m=\u001b[0m \u001b[0mself\u001b[0m\u001b[1;33m.\u001b[0m\u001b[0mitems\u001b[0m\u001b[1;33m.\u001b[0m\u001b[0mget_loc\u001b[0m\u001b[1;33m(\u001b[0m\u001b[0mitem\u001b[0m\u001b[1;33m)\u001b[0m\u001b[1;33m\u001b[0m\u001b[0m\n\u001b[0m\u001b[0;32m   3716\u001b[0m         \u001b[1;32mexcept\u001b[0m \u001b[0mKeyError\u001b[0m\u001b[1;33m:\u001b[0m\u001b[1;33m\u001b[0m\u001b[0m\n",
      "\u001b[1;32m~\\A3\\lib\\site-packages\\pandas\\core\\indexes\\base.py\u001b[0m in \u001b[0;36mget_loc\u001b[1;34m(self, key, method, tolerance)\u001b[0m\n\u001b[0;32m   2443\u001b[0m             \u001b[1;32mexcept\u001b[0m \u001b[0mKeyError\u001b[0m\u001b[1;33m:\u001b[0m\u001b[1;33m\u001b[0m\u001b[0m\n\u001b[1;32m-> 2444\u001b[1;33m                 \u001b[1;32mreturn\u001b[0m \u001b[0mself\u001b[0m\u001b[1;33m.\u001b[0m\u001b[0m_engine\u001b[0m\u001b[1;33m.\u001b[0m\u001b[0mget_loc\u001b[0m\u001b[1;33m(\u001b[0m\u001b[0mself\u001b[0m\u001b[1;33m.\u001b[0m\u001b[0m_maybe_cast_indexer\u001b[0m\u001b[1;33m(\u001b[0m\u001b[0mkey\u001b[0m\u001b[1;33m)\u001b[0m\u001b[1;33m)\u001b[0m\u001b[1;33m\u001b[0m\u001b[0m\n\u001b[0m\u001b[0;32m   2445\u001b[0m \u001b[1;33m\u001b[0m\u001b[0m\n",
      "\u001b[1;32mpandas\\_libs\\index.pyx\u001b[0m in \u001b[0;36mpandas._libs.index.IndexEngine.get_loc\u001b[1;34m()\u001b[0m\n",
      "\u001b[1;32mpandas\\_libs\\index.pyx\u001b[0m in \u001b[0;36mpandas._libs.index.IndexEngine.get_loc\u001b[1;34m()\u001b[0m\n",
      "\u001b[1;32mpandas\\_libs\\hashtable_class_helper.pxi\u001b[0m in \u001b[0;36mpandas._libs.hashtable.Int64HashTable.get_item\u001b[1;34m()\u001b[0m\n",
      "\u001b[1;32mpandas\\_libs\\hashtable_class_helper.pxi\u001b[0m in \u001b[0;36mpandas._libs.hashtable.Int64HashTable.get_item\u001b[1;34m()\u001b[0m\n",
      "\u001b[1;31mKeyError\u001b[0m: 5720",
      "\nDuring handling of the above exception, another exception occurred:\n",
      "\u001b[1;31mKeyboardInterrupt\u001b[0m                         Traceback (most recent call last)",
      "\u001b[1;32m<ipython-input-20-c11479c04133>\u001b[0m in \u001b[0;36m<module>\u001b[1;34m()\u001b[0m\n\u001b[1;32m----> 1\u001b[1;33m \u001b[0mnew_matrix\u001b[0m \u001b[1;33m=\u001b[0m \u001b[0mpd\u001b[0m\u001b[1;33m.\u001b[0m\u001b[0mSparseDataFrame\u001b[0m\u001b[1;33m(\u001b[0m\u001b[0msparse_matrix\u001b[0m\u001b[1;33m)\u001b[0m\u001b[1;33m\u001b[0m\u001b[0m\n\u001b[0m",
      "\u001b[1;32m~\\A3\\lib\\site-packages\\pandas\\core\\sparse\\frame.py\u001b[0m in \u001b[0;36m__init__\u001b[1;34m(self, data, index, columns, default_kind, default_fill_value, dtype, copy)\u001b[0m\n\u001b[0;32m     88\u001b[0m         \u001b[1;32mif\u001b[0m \u001b[0mis_scipy_sparse\u001b[0m\u001b[1;33m(\u001b[0m\u001b[0mdata\u001b[0m\u001b[1;33m)\u001b[0m\u001b[1;33m:\u001b[0m\u001b[1;33m\u001b[0m\u001b[0m\n\u001b[0;32m     89\u001b[0m             mgr = self._init_spmatrix(data, index, columns, dtype=dtype,\n\u001b[1;32m---> 90\u001b[1;33m                                       fill_value=default_fill_value)\n\u001b[0m\u001b[0;32m     91\u001b[0m         \u001b[1;32melif\u001b[0m \u001b[0misinstance\u001b[0m\u001b[1;33m(\u001b[0m\u001b[0mdata\u001b[0m\u001b[1;33m,\u001b[0m \u001b[0mdict\u001b[0m\u001b[1;33m)\u001b[0m\u001b[1;33m:\u001b[0m\u001b[1;33m\u001b[0m\u001b[0m\n\u001b[0;32m     92\u001b[0m             \u001b[0mmgr\u001b[0m \u001b[1;33m=\u001b[0m \u001b[0mself\u001b[0m\u001b[1;33m.\u001b[0m\u001b[0m_init_dict\u001b[0m\u001b[1;33m(\u001b[0m\u001b[0mdata\u001b[0m\u001b[1;33m,\u001b[0m \u001b[0mindex\u001b[0m\u001b[1;33m,\u001b[0m \u001b[0mcolumns\u001b[0m\u001b[1;33m,\u001b[0m \u001b[0mdtype\u001b[0m\u001b[1;33m=\u001b[0m\u001b[0mdtype\u001b[0m\u001b[1;33m)\u001b[0m\u001b[1;33m\u001b[0m\u001b[0m\n",
      "\u001b[1;32m~\\A3\\lib\\site-packages\\pandas\\core\\sparse\\frame.py\u001b[0m in \u001b[0;36m_init_spmatrix\u001b[1;34m(self, data, index, columns, dtype, fill_value)\u001b[0m\n\u001b[0;32m    207\u001b[0m                       if column not in sdict})\n\u001b[0;32m    208\u001b[0m \u001b[1;33m\u001b[0m\u001b[0m\n\u001b[1;32m--> 209\u001b[1;33m         \u001b[1;32mreturn\u001b[0m \u001b[0mself\u001b[0m\u001b[1;33m.\u001b[0m\u001b[0m_init_dict\u001b[0m\u001b[1;33m(\u001b[0m\u001b[0msdict\u001b[0m\u001b[1;33m,\u001b[0m \u001b[0mindex\u001b[0m\u001b[1;33m,\u001b[0m \u001b[0mcolumns\u001b[0m\u001b[1;33m,\u001b[0m \u001b[0mdtype\u001b[0m\u001b[1;33m)\u001b[0m\u001b[1;33m\u001b[0m\u001b[0m\n\u001b[0m\u001b[0;32m    210\u001b[0m \u001b[1;33m\u001b[0m\u001b[0m\n\u001b[0;32m    211\u001b[0m     \u001b[1;32mdef\u001b[0m \u001b[0m_prep_index\u001b[0m\u001b[1;33m(\u001b[0m\u001b[0mself\u001b[0m\u001b[1;33m,\u001b[0m \u001b[0mdata\u001b[0m\u001b[1;33m,\u001b[0m \u001b[0mindex\u001b[0m\u001b[1;33m,\u001b[0m \u001b[0mcolumns\u001b[0m\u001b[1;33m)\u001b[0m\u001b[1;33m:\u001b[0m\u001b[1;33m\u001b[0m\u001b[0m\n",
      "\u001b[1;32m~\\A3\\lib\\site-packages\\pandas\\core\\sparse\\frame.py\u001b[0m in \u001b[0;36m_init_dict\u001b[1;34m(self, data, index, columns, dtype)\u001b[0m\n\u001b[0;32m    160\u001b[0m \u001b[1;33m\u001b[0m\u001b[0m\n\u001b[0;32m    161\u001b[0m                 \u001b[0mv\u001b[0m \u001b[1;33m=\u001b[0m \u001b[0msp_maker\u001b[0m\u001b[1;33m(\u001b[0m\u001b[0mv\u001b[0m\u001b[1;33m)\u001b[0m\u001b[1;33m\u001b[0m\u001b[0m\n\u001b[1;32m--> 162\u001b[1;33m             \u001b[0msdict\u001b[0m\u001b[1;33m[\u001b[0m\u001b[0mk\u001b[0m\u001b[1;33m]\u001b[0m \u001b[1;33m=\u001b[0m \u001b[0mv\u001b[0m\u001b[1;33m\u001b[0m\u001b[0m\n\u001b[0m\u001b[0;32m    163\u001b[0m \u001b[1;33m\u001b[0m\u001b[0m\n\u001b[0;32m    164\u001b[0m         \u001b[1;31m# TODO: figure out how to handle this case, all nan's?\u001b[0m\u001b[1;33m\u001b[0m\u001b[1;33m\u001b[0m\u001b[0m\n",
      "\u001b[1;32m~\\A3\\lib\\site-packages\\pandas\\core\\frame.py\u001b[0m in \u001b[0;36m__setitem__\u001b[1;34m(self, key, value)\u001b[0m\n\u001b[0;32m   2329\u001b[0m         \u001b[1;32melse\u001b[0m\u001b[1;33m:\u001b[0m\u001b[1;33m\u001b[0m\u001b[0m\n\u001b[0;32m   2330\u001b[0m             \u001b[1;31m# set column\u001b[0m\u001b[1;33m\u001b[0m\u001b[1;33m\u001b[0m\u001b[0m\n\u001b[1;32m-> 2331\u001b[1;33m             \u001b[0mself\u001b[0m\u001b[1;33m.\u001b[0m\u001b[0m_set_item\u001b[0m\u001b[1;33m(\u001b[0m\u001b[0mkey\u001b[0m\u001b[1;33m,\u001b[0m \u001b[0mvalue\u001b[0m\u001b[1;33m)\u001b[0m\u001b[1;33m\u001b[0m\u001b[0m\n\u001b[0m\u001b[0;32m   2332\u001b[0m \u001b[1;33m\u001b[0m\u001b[0m\n\u001b[0;32m   2333\u001b[0m     \u001b[1;32mdef\u001b[0m \u001b[0m_setitem_slice\u001b[0m\u001b[1;33m(\u001b[0m\u001b[0mself\u001b[0m\u001b[1;33m,\u001b[0m \u001b[0mkey\u001b[0m\u001b[1;33m,\u001b[0m \u001b[0mvalue\u001b[0m\u001b[1;33m)\u001b[0m\u001b[1;33m:\u001b[0m\u001b[1;33m\u001b[0m\u001b[0m\n",
      "\u001b[1;32m~\\A3\\lib\\site-packages\\pandas\\core\\frame.py\u001b[0m in \u001b[0;36m_set_item\u001b[1;34m(self, key, value)\u001b[0m\n\u001b[0;32m   2396\u001b[0m         \u001b[0mself\u001b[0m\u001b[1;33m.\u001b[0m\u001b[0m_ensure_valid_index\u001b[0m\u001b[1;33m(\u001b[0m\u001b[0mvalue\u001b[0m\u001b[1;33m)\u001b[0m\u001b[1;33m\u001b[0m\u001b[0m\n\u001b[0;32m   2397\u001b[0m         \u001b[0mvalue\u001b[0m \u001b[1;33m=\u001b[0m \u001b[0mself\u001b[0m\u001b[1;33m.\u001b[0m\u001b[0m_sanitize_column\u001b[0m\u001b[1;33m(\u001b[0m\u001b[0mkey\u001b[0m\u001b[1;33m,\u001b[0m \u001b[0mvalue\u001b[0m\u001b[1;33m)\u001b[0m\u001b[1;33m\u001b[0m\u001b[0m\n\u001b[1;32m-> 2398\u001b[1;33m         \u001b[0mNDFrame\u001b[0m\u001b[1;33m.\u001b[0m\u001b[0m_set_item\u001b[0m\u001b[1;33m(\u001b[0m\u001b[0mself\u001b[0m\u001b[1;33m,\u001b[0m \u001b[0mkey\u001b[0m\u001b[1;33m,\u001b[0m \u001b[0mvalue\u001b[0m\u001b[1;33m)\u001b[0m\u001b[1;33m\u001b[0m\u001b[0m\n\u001b[0m\u001b[0;32m   2399\u001b[0m \u001b[1;33m\u001b[0m\u001b[0m\n\u001b[0;32m   2400\u001b[0m         \u001b[1;31m# check if we are modifying a copy\u001b[0m\u001b[1;33m\u001b[0m\u001b[1;33m\u001b[0m\u001b[0m\n",
      "\u001b[1;32m~\\A3\\lib\\site-packages\\pandas\\core\\generic.py\u001b[0m in \u001b[0;36m_set_item\u001b[1;34m(self, key, value)\u001b[0m\n\u001b[0;32m   1757\u001b[0m \u001b[1;33m\u001b[0m\u001b[0m\n\u001b[0;32m   1758\u001b[0m     \u001b[1;32mdef\u001b[0m \u001b[0m_set_item\u001b[0m\u001b[1;33m(\u001b[0m\u001b[0mself\u001b[0m\u001b[1;33m,\u001b[0m \u001b[0mkey\u001b[0m\u001b[1;33m,\u001b[0m \u001b[0mvalue\u001b[0m\u001b[1;33m)\u001b[0m\u001b[1;33m:\u001b[0m\u001b[1;33m\u001b[0m\u001b[0m\n\u001b[1;32m-> 1759\u001b[1;33m         \u001b[0mself\u001b[0m\u001b[1;33m.\u001b[0m\u001b[0m_data\u001b[0m\u001b[1;33m.\u001b[0m\u001b[0mset\u001b[0m\u001b[1;33m(\u001b[0m\u001b[0mkey\u001b[0m\u001b[1;33m,\u001b[0m \u001b[0mvalue\u001b[0m\u001b[1;33m)\u001b[0m\u001b[1;33m\u001b[0m\u001b[0m\n\u001b[0m\u001b[0;32m   1760\u001b[0m         \u001b[0mself\u001b[0m\u001b[1;33m.\u001b[0m\u001b[0m_clear_item_cache\u001b[0m\u001b[1;33m(\u001b[0m\u001b[1;33m)\u001b[0m\u001b[1;33m\u001b[0m\u001b[0m\n\u001b[0;32m   1761\u001b[0m \u001b[1;33m\u001b[0m\u001b[0m\n",
      "\u001b[1;32m~\\A3\\lib\\site-packages\\pandas\\core\\internals.py\u001b[0m in \u001b[0;36mset\u001b[1;34m(self, item, value, check)\u001b[0m\n\u001b[0;32m   3716\u001b[0m         \u001b[1;32mexcept\u001b[0m \u001b[0mKeyError\u001b[0m\u001b[1;33m:\u001b[0m\u001b[1;33m\u001b[0m\u001b[0m\n\u001b[0;32m   3717\u001b[0m             \u001b[1;31m# This item wasn't present, just insert at end\u001b[0m\u001b[1;33m\u001b[0m\u001b[1;33m\u001b[0m\u001b[0m\n\u001b[1;32m-> 3718\u001b[1;33m             \u001b[0mself\u001b[0m\u001b[1;33m.\u001b[0m\u001b[0minsert\u001b[0m\u001b[1;33m(\u001b[0m\u001b[0mlen\u001b[0m\u001b[1;33m(\u001b[0m\u001b[0mself\u001b[0m\u001b[1;33m.\u001b[0m\u001b[0mitems\u001b[0m\u001b[1;33m)\u001b[0m\u001b[1;33m,\u001b[0m \u001b[0mitem\u001b[0m\u001b[1;33m,\u001b[0m \u001b[0mvalue\u001b[0m\u001b[1;33m)\u001b[0m\u001b[1;33m\u001b[0m\u001b[0m\n\u001b[0m\u001b[0;32m   3719\u001b[0m             \u001b[1;32mreturn\u001b[0m\u001b[1;33m\u001b[0m\u001b[0m\n\u001b[0;32m   3720\u001b[0m \u001b[1;33m\u001b[0m\u001b[0m\n",
      "\u001b[1;32m~\\A3\\lib\\site-packages\\pandas\\core\\internals.py\u001b[0m in \u001b[0;36minsert\u001b[1;34m(self, loc, item, value, allow_duplicates)\u001b[0m\n\u001b[0;32m   3844\u001b[0m \u001b[1;33m\u001b[0m\u001b[0m\n\u001b[0;32m   3845\u001b[0m         \u001b[1;32mif\u001b[0m \u001b[0mlen\u001b[0m\u001b[1;33m(\u001b[0m\u001b[0mself\u001b[0m\u001b[1;33m.\u001b[0m\u001b[0mblocks\u001b[0m\u001b[1;33m)\u001b[0m \u001b[1;33m>\u001b[0m \u001b[1;36m100\u001b[0m\u001b[1;33m:\u001b[0m\u001b[1;33m\u001b[0m\u001b[0m\n\u001b[1;32m-> 3846\u001b[1;33m             \u001b[0mself\u001b[0m\u001b[1;33m.\u001b[0m\u001b[0m_consolidate_inplace\u001b[0m\u001b[1;33m(\u001b[0m\u001b[1;33m)\u001b[0m\u001b[1;33m\u001b[0m\u001b[0m\n\u001b[0m\u001b[0;32m   3847\u001b[0m \u001b[1;33m\u001b[0m\u001b[0m\n\u001b[0;32m   3848\u001b[0m     def reindex_axis(self, new_index, axis, method=None, limit=None,\n",
      "\u001b[1;32m~\\A3\\lib\\site-packages\\pandas\\core\\internals.py\u001b[0m in \u001b[0;36m_consolidate_inplace\u001b[1;34m(self)\u001b[0m\n\u001b[0;32m   3576\u001b[0m     \u001b[1;32mdef\u001b[0m \u001b[0m_consolidate_inplace\u001b[0m\u001b[1;33m(\u001b[0m\u001b[0mself\u001b[0m\u001b[1;33m)\u001b[0m\u001b[1;33m:\u001b[0m\u001b[1;33m\u001b[0m\u001b[0m\n\u001b[0;32m   3577\u001b[0m         \u001b[1;32mif\u001b[0m \u001b[1;32mnot\u001b[0m \u001b[0mself\u001b[0m\u001b[1;33m.\u001b[0m\u001b[0mis_consolidated\u001b[0m\u001b[1;33m(\u001b[0m\u001b[1;33m)\u001b[0m\u001b[1;33m:\u001b[0m\u001b[1;33m\u001b[0m\u001b[0m\n\u001b[1;32m-> 3578\u001b[1;33m             \u001b[0mself\u001b[0m\u001b[1;33m.\u001b[0m\u001b[0mblocks\u001b[0m \u001b[1;33m=\u001b[0m \u001b[0mtuple\u001b[0m\u001b[1;33m(\u001b[0m\u001b[0m_consolidate\u001b[0m\u001b[1;33m(\u001b[0m\u001b[0mself\u001b[0m\u001b[1;33m.\u001b[0m\u001b[0mblocks\u001b[0m\u001b[1;33m)\u001b[0m\u001b[1;33m)\u001b[0m\u001b[1;33m\u001b[0m\u001b[0m\n\u001b[0m\u001b[0;32m   3579\u001b[0m             \u001b[0mself\u001b[0m\u001b[1;33m.\u001b[0m\u001b[0m_is_consolidated\u001b[0m \u001b[1;33m=\u001b[0m \u001b[1;32mTrue\u001b[0m\u001b[1;33m\u001b[0m\u001b[0m\n\u001b[0;32m   3580\u001b[0m             \u001b[0mself\u001b[0m\u001b[1;33m.\u001b[0m\u001b[0m_known_consolidated\u001b[0m \u001b[1;33m=\u001b[0m \u001b[1;32mTrue\u001b[0m\u001b[1;33m\u001b[0m\u001b[0m\n",
      "\u001b[1;32m~\\A3\\lib\\site-packages\\pandas\\core\\internals.py\u001b[0m in \u001b[0;36m_consolidate\u001b[1;34m(blocks)\u001b[0m\n\u001b[0;32m   4518\u001b[0m     \u001b[1;31m# sort by _can_consolidate, dtype\u001b[0m\u001b[1;33m\u001b[0m\u001b[1;33m\u001b[0m\u001b[0m\n\u001b[0;32m   4519\u001b[0m     \u001b[0mgkey\u001b[0m \u001b[1;33m=\u001b[0m \u001b[1;32mlambda\u001b[0m \u001b[0mx\u001b[0m\u001b[1;33m:\u001b[0m \u001b[0mx\u001b[0m\u001b[1;33m.\u001b[0m\u001b[0m_consolidate_key\u001b[0m\u001b[1;33m\u001b[0m\u001b[0m\n\u001b[1;32m-> 4520\u001b[1;33m     \u001b[0mgrouper\u001b[0m \u001b[1;33m=\u001b[0m \u001b[0mitertools\u001b[0m\u001b[1;33m.\u001b[0m\u001b[0mgroupby\u001b[0m\u001b[1;33m(\u001b[0m\u001b[0msorted\u001b[0m\u001b[1;33m(\u001b[0m\u001b[0mblocks\u001b[0m\u001b[1;33m,\u001b[0m \u001b[0mkey\u001b[0m\u001b[1;33m=\u001b[0m\u001b[0mgkey\u001b[0m\u001b[1;33m)\u001b[0m\u001b[1;33m,\u001b[0m \u001b[0mgkey\u001b[0m\u001b[1;33m)\u001b[0m\u001b[1;33m\u001b[0m\u001b[0m\n\u001b[0m\u001b[0;32m   4521\u001b[0m \u001b[1;33m\u001b[0m\u001b[0m\n\u001b[0;32m   4522\u001b[0m     \u001b[0mnew_blocks\u001b[0m \u001b[1;33m=\u001b[0m \u001b[1;33m[\u001b[0m\u001b[1;33m]\u001b[0m\u001b[1;33m\u001b[0m\u001b[0m\n",
      "\u001b[1;31mKeyboardInterrupt\u001b[0m: "
     ],
     "output_type": "error"
    }
   ],
   "source": [
    "new_matrix = pd.SparseDataFrame(sparse_matrix)"
   ]
  },
  {
   "cell_type": "code",
   "execution_count": 25,
   "metadata": {},
   "outputs": [
    {
     "ename": "MemoryError",
     "evalue": "",
     "traceback": [
      "\u001b[1;31m---------------------------------------------------------------------------\u001b[0m",
      "\u001b[1;31mMemoryError\u001b[0m                               Traceback (most recent call last)",
      "\u001b[1;32m<ipython-input-25-83169f6b3a8e>\u001b[0m in \u001b[0;36m<module>\u001b[1;34m()\u001b[0m\n\u001b[1;32m----> 1\u001b[1;33m \u001b[0mmatrix\u001b[0m\u001b[1;33m.\u001b[0m\u001b[0mto_pickle\u001b[0m\u001b[1;33m(\u001b[0m\u001b[1;34m'matrix.pkl'\u001b[0m\u001b[1;33m)\u001b[0m\u001b[1;33m\u001b[0m\u001b[0m\n\u001b[0m",
      "\u001b[1;32m~\\A3\\lib\\site-packages\\pandas\\core\\generic.py\u001b[0m in \u001b[0;36mto_pickle\u001b[1;34m(self, path, compression)\u001b[0m\n\u001b[0;32m   1376\u001b[0m         \"\"\"\n\u001b[0;32m   1377\u001b[0m         \u001b[1;32mfrom\u001b[0m \u001b[0mpandas\u001b[0m\u001b[1;33m.\u001b[0m\u001b[0mio\u001b[0m\u001b[1;33m.\u001b[0m\u001b[0mpickle\u001b[0m \u001b[1;32mimport\u001b[0m \u001b[0mto_pickle\u001b[0m\u001b[1;33m\u001b[0m\u001b[0m\n\u001b[1;32m-> 1378\u001b[1;33m         \u001b[1;32mreturn\u001b[0m \u001b[0mto_pickle\u001b[0m\u001b[1;33m(\u001b[0m\u001b[0mself\u001b[0m\u001b[1;33m,\u001b[0m \u001b[0mpath\u001b[0m\u001b[1;33m,\u001b[0m \u001b[0mcompression\u001b[0m\u001b[1;33m=\u001b[0m\u001b[0mcompression\u001b[0m\u001b[1;33m)\u001b[0m\u001b[1;33m\u001b[0m\u001b[0m\n\u001b[0m\u001b[0;32m   1379\u001b[0m \u001b[1;33m\u001b[0m\u001b[0m\n\u001b[0;32m   1380\u001b[0m     \u001b[1;32mdef\u001b[0m \u001b[0mto_clipboard\u001b[0m\u001b[1;33m(\u001b[0m\u001b[0mself\u001b[0m\u001b[1;33m,\u001b[0m \u001b[0mexcel\u001b[0m\u001b[1;33m=\u001b[0m\u001b[1;32mNone\u001b[0m\u001b[1;33m,\u001b[0m \u001b[0msep\u001b[0m\u001b[1;33m=\u001b[0m\u001b[1;32mNone\u001b[0m\u001b[1;33m,\u001b[0m \u001b[1;33m**\u001b[0m\u001b[0mkwargs\u001b[0m\u001b[1;33m)\u001b[0m\u001b[1;33m:\u001b[0m\u001b[1;33m\u001b[0m\u001b[0m\n",
      "\u001b[1;32m~\\A3\\lib\\site-packages\\pandas\\io\\pickle.py\u001b[0m in \u001b[0;36mto_pickle\u001b[1;34m(obj, path, compression)\u001b[0m\n\u001b[0;32m     27\u001b[0m                         is_text=False)\n\u001b[0;32m     28\u001b[0m     \u001b[1;32mtry\u001b[0m\u001b[1;33m:\u001b[0m\u001b[1;33m\u001b[0m\u001b[0m\n\u001b[1;32m---> 29\u001b[1;33m         \u001b[0mpkl\u001b[0m\u001b[1;33m.\u001b[0m\u001b[0mdump\u001b[0m\u001b[1;33m(\u001b[0m\u001b[0mobj\u001b[0m\u001b[1;33m,\u001b[0m \u001b[0mf\u001b[0m\u001b[1;33m,\u001b[0m \u001b[0mprotocol\u001b[0m\u001b[1;33m=\u001b[0m\u001b[0mpkl\u001b[0m\u001b[1;33m.\u001b[0m\u001b[0mHIGHEST_PROTOCOL\u001b[0m\u001b[1;33m)\u001b[0m\u001b[1;33m\u001b[0m\u001b[0m\n\u001b[0m\u001b[0;32m     30\u001b[0m     \u001b[1;32mfinally\u001b[0m\u001b[1;33m:\u001b[0m\u001b[1;33m\u001b[0m\u001b[0m\n\u001b[0;32m     31\u001b[0m         \u001b[1;32mfor\u001b[0m \u001b[0m_f\u001b[0m \u001b[1;32min\u001b[0m \u001b[0mfh\u001b[0m\u001b[1;33m:\u001b[0m\u001b[1;33m\u001b[0m\u001b[0m\n",
      "\u001b[1;31mMemoryError\u001b[0m: "
     ],
     "output_type": "error"
    }
   ],
   "source": [
    "matrix.to_pickle('matrix.pkl')"
   ]
  },
  {
   "cell_type": "code",
   "execution_count": 16,
   "metadata": {
    "collapsed": true
   },
   "outputs": [],
   "source": [
    "matrix.to_csv('matrix.csv', sep='\\t', encoding='utf-8', index=False)"
   ]
  },
  {
   "cell_type": "code",
   "execution_count": 26,
   "metadata": {
    "collapsed": true
   },
   "outputs": [],
   "source": [
    "with open('vocabulary.txt', 'w', encoding='utf-8') as f:\n",
    "    text = '\\n'.join(vocabulary)\n",
    "    f.write(text)"
   ]
  },
  {
   "cell_type": "code",
   "execution_count": 27,
   "metadata": {
    "collapsed": true
   },
   "outputs": [],
   "source": [
    "def score_BM25(qf, dl, avgdl, n, N) -> float:\n",
    "    \"\"\"\n",
    "    Compute similarity score between search query and documents from collection\n",
    "    :return: score\n",
    "    \"\"\"\n",
    "    k1 = 2.0\n",
    "    b = 0.75\n",
    "    idf = math.log(1 + (N-n+0.5)/(n+0.5))\n",
    "    score = idf * (k1+1)*qf/(qf+k1*(1-b+b*(dl/avgdl)))\n",
    "    return score"
   ]
  },
  {
   "cell_type": "code",
   "execution_count": 28,
   "metadata": {
    "collapsed": true
   },
   "outputs": [],
   "source": [
    "def compute_sim(word, vocabulary, matrix, dls, avgdl, N) -> float:\n",
    "    \"\"\"\n",
    "    Compute similarity score between search query and documents from collection\n",
    "    :return: score\n",
    "    \"\"\"\n",
    "    \n",
    "    if word in vocabulary:\n",
    "        n = len(matrix[matrix[word]>0])\n",
    "        result = {}\n",
    "        for i, t in enumerate(matrix[word]):\n",
    "            qf = t/dls[i]\n",
    "            #qf = term_doc_matrix[dictionary[word]][doc]\n",
    "            \n",
    "            score = score_BM25(qf, dls[i], avgdl, N, n)\n",
    "            result[i] = score\n",
    "        return result\n",
    "    else:\n",
    "        return {}"
   ]
  },
  {
   "cell_type": "code",
   "execution_count": 69,
   "metadata": {
    "collapsed": true
   },
   "outputs": [],
   "source": [
    "def okapi(q):\n",
    "    new_q = preprocessing(q, russian_stopwords)\n",
    "    print(new_q)\n",
    "    \n",
    "    res = defaultdict(int)\n",
    "    for word in new_q.split():\n",
    "        sim_dict = compute_sim(word, vocabulary, matrix, dls, avgdl, N)\n",
    "        for k in sim_dict:\n",
    "            res[k] += sim_dict[k]\n",
    "\n",
    "    top = sorted(res, key=res.get, reverse=False)[:10]\n",
    "    print(top)\n",
    "\n",
    "    for el in top:\n",
    "        print(el, res[el])\n",
    "        print(data['title'][el] + data['text'][el])\n",
    "   "
   ]
  },
  {
   "cell_type": "code",
   "execution_count": 70,
   "metadata": {
    "scrolled": true
   },
   "outputs": [
    {
     "name": "stdout",
     "output_type": "stream",
     "text": [
      "бухгалтер женщина\n"
     ]
    },
    {
     "name": "stderr",
     "output_type": "stream",
     "text": [
      "C:\\Users\\zhenya\\A3\\lib\\site-packages\\ipykernel_launcher.py:11: RuntimeWarning: invalid value encountered in longlong_scalars\n",
      "  # This is added back by InteractiveShellApp.init_path()\n"
     ]
    },
    {
     "name": "stdout",
     "output_type": "stream",
     "text": [
      "[3325, 3861, 1712, 7709, 771, 2262, 470, 7215, 9680, 3686]\n",
      "3325 -2.51885508779\n",
      "Бухгалтер\n",
      "3861 -2.51885508779\n",
      "Бухгалтер\n",
      "1712 -1.0491068559\n",
      "Бухгалтер по учету затрат\n",
      "7709 -0.954879419037\n",
      "Бухгалтер по учету имущества\n",
      "771 -0.717204315772\n",
      "Специалист по документам в бухгалтерию\n",
      "2262 -0.623023919137\n",
      "Главный бухгалтер в единственном лице\n",
      "470 -0.604542880283\n",
      "Упаковщики / Мужчины и Женщины на склад вахта\n",
      "7215 -0.547973164718\n",
      "Бухгалтер по строительно монтажным работам\n",
      "9680 -0.253467647501\n",
      "Товаровед- бухгалтерТребуется товаровед для учёта и ведения бухгалтерии 1С (розница) в  магазинах розничных продаж одежды и обуви..\n",
      "3686 -0.126772128248\n",
      "БухгалтерОписание работодателя:В небольшую строительную фирму требуется Бухгалтер с высшим профильным образованием\n",
      "Требования:Опыт от 10 лет.\n",
      "Обязанности: Ведение бухгалтерии, отчетность и т.д.\n",
      "Условия:З/П и график обсуждается на собеседовании\n"
     ]
    }
   ],
   "source": [
    "okapi('бухгалтер женщина')"
   ]
  },
  {
   "cell_type": "code",
   "execution_count": 72,
   "metadata": {},
   "outputs": [
    {
     "data": {
      "text/html": [
       "<div>\n",
       "<style>\n",
       "    .dataframe thead tr:only-child th {\n",
       "        text-align: right;\n",
       "    }\n",
       "\n",
       "    .dataframe thead th {\n",
       "        text-align: left;\n",
       "    }\n",
       "\n",
       "    .dataframe tbody tr th {\n",
       "        vertical-align: top;\n",
       "    }\n",
       "</style>\n",
       "<table border=\"1\" class=\"dataframe\">\n",
       "  <thead>\n",
       "    <tr style=\"text-align: right;\">\n",
       "      <th></th>\n",
       "      <th>address</th>\n",
       "      <th>name</th>\n",
       "      <th>title</th>\n",
       "      <th>График работы</th>\n",
       "      <th>Опыт работы</th>\n",
       "      <th>Сфера деятельности</th>\n",
       "      <th>text</th>\n",
       "    </tr>\n",
       "  </thead>\n",
       "  <tbody>\n",
       "    <tr>\n",
       "      <th>470</th>\n",
       "      <td></td>\n",
       "      <td>upakovschiki_muzhchiny_i_zhenschiny_na_sklad_v...</td>\n",
       "      <td>Упаковщики / Мужчины и Женщины на склад вахта</td>\n",
       "      <td>вахтовый метод</td>\n",
       "      <td>не имеет значения</td>\n",
       "      <td>Без опыта, студенты</td>\n",
       "      <td></td>\n",
       "    </tr>\n",
       "  </tbody>\n",
       "</table>\n",
       "</div>"
      ],
      "text/plain": [
       "    address                                               name  \\\n",
       "470          upakovschiki_muzhchiny_i_zhenschiny_na_sklad_v...   \n",
       "\n",
       "                                             title   График работы  \\\n",
       "470  Упаковщики / Мужчины и Женщины на склад вахта  вахтовый метод   \n",
       "\n",
       "           Опыт работы   Сфера деятельности text  \n",
       "470  не имеет значения  Без опыта, студенты       "
      ]
     },
     "execution_count": 72,
     "metadata": {},
     "output_type": "execute_result"
    }
   ],
   "source": [
    "data[470:471]"
   ]
  },
  {
   "cell_type": "code",
   "execution_count": null,
   "metadata": {
    "collapsed": true
   },
   "outputs": [],
   "source": []
  },
  {
   "cell_type": "markdown",
   "metadata": {},
   "source": [
    "## WORD2VEC"
   ]
  },
  {
   "cell_type": "code",
   "execution_count": 17,
   "metadata": {
    "collapsed": true
   },
   "outputs": [],
   "source": [
    "from gensim.models import Word2Vec, KeyedVectors"
   ]
  },
  {
   "cell_type": "code",
   "execution_count": 18,
   "metadata": {
    "collapsed": true
   },
   "outputs": [],
   "source": [
    "model = Word2Vec.load('araneum_none_fasttextskipgram_300_5_2018.model')"
   ]
  },
  {
   "cell_type": "code",
   "execution_count": 27,
   "metadata": {},
   "outputs": [
    {
     "data": {
      "text/plain": [
       "array([ 0.08089462,  0.00701773, -0.00935735,  0.12002733, -0.31280148,\n",
       "        0.0228413 , -0.01529199, -0.02186411, -0.0387328 ,  0.08120836,\n",
       "       -0.09511425,  0.28745091,  0.08661713,  0.15903006,  0.08705243,\n",
       "        0.02499125, -0.0635455 ,  0.15918148,  0.15837561,  0.01393018,\n",
       "       -0.12084688,  0.08646525, -0.00407984, -0.1226891 ,  0.14332375,\n",
       "        0.0383391 ,  0.15435955,  0.29652512, -0.17369893,  0.01833459,\n",
       "       -0.07329725, -0.11599656, -0.10199031,  0.01565463,  0.16002776,\n",
       "       -0.25694409, -0.09755956,  0.45247158, -0.24680077,  0.19071096,\n",
       "       -0.07415186, -0.46609646, -0.27458704,  0.49468029, -0.07068588,\n",
       "        0.00258506, -0.01159397,  0.16310877, -0.06888103, -0.13344339,\n",
       "       -0.02761816,  0.1118577 , -0.15993267, -0.29807198, -0.22656329,\n",
       "       -0.0712532 ,  0.21073416,  0.28499791, -0.08131388, -0.05281293,\n",
       "        0.00485847,  0.27990091, -0.34847385, -0.1391923 , -0.37563425,\n",
       "        0.53031272, -0.26867482,  0.10706437, -0.12842719, -0.16051631,\n",
       "        0.14141808,  0.5242061 ,  0.33884826,  0.044088  ,  0.13978171,\n",
       "        0.13429925,  0.30764017, -0.1863213 ,  0.56399506,  0.54714131,\n",
       "       -0.19887212, -0.06447367,  0.13506906, -0.04028633,  0.13632466,\n",
       "       -0.00719346, -0.16553527,  0.0987694 ,  0.00203263,  0.12797989,\n",
       "        0.29573739, -0.27518222,  0.14504442,  0.03102763,  0.07206113,\n",
       "       -0.12337276,  0.01595939, -0.09246942, -0.04546889, -0.11011335,\n",
       "       -0.05604117, -0.00315387,  0.09892483, -0.0136091 , -0.28528172,\n",
       "       -0.07332689,  0.02775099,  0.14158988, -0.09826431, -0.10864469,\n",
       "       -0.04586507, -0.02713438, -0.23273969,  0.08240116,  0.03200556,\n",
       "       -0.01938594, -0.40657437, -0.33424085, -0.08987866, -0.26585138,\n",
       "       -0.10516697, -0.01625189,  0.03336164, -0.1678174 , -0.01837615,\n",
       "       -0.07580282,  0.15087101, -0.01389067,  0.23770945,  0.02359902,\n",
       "        0.32675803, -0.10238481,  0.14733411,  0.21620321, -0.26047271,\n",
       "       -0.29414478,  0.24957007, -0.05158272, -0.13303263, -0.07506079,\n",
       "       -0.23482135,  0.22686225, -0.03558267,  0.13339059,  0.04512129,\n",
       "        0.55361778, -0.09502289,  0.29347771, -0.23682472, -0.09385623,\n",
       "       -0.01333306, -0.02305428, -0.17542079, -0.13731711, -0.1233253 ,\n",
       "       -0.08512456,  0.19416185,  0.1257599 , -0.00658687, -0.3192651 ,\n",
       "       -0.17436956, -0.25881615,  0.18112645, -0.11133339,  0.17033312,\n",
       "        0.30837387,  0.01939022, -0.0952825 ,  0.21335879, -0.06411865,\n",
       "       -0.33147207,  0.46622726, -0.00521752,  0.04416421,  0.03600375,\n",
       "       -0.01405726,  0.32047069,  0.22177272, -0.01079086,  0.30868834,\n",
       "       -0.21758851,  0.00704225,  0.37666491, -0.00802009, -0.2756401 ,\n",
       "       -0.12231211, -0.00129633, -0.16281603,  0.45740291, -0.29689705,\n",
       "        0.01447135, -0.02824511,  0.29309261, -0.04500083, -0.72532588,\n",
       "        0.12145266,  0.24241903, -0.75279015,  0.5070973 ,  0.29811803,\n",
       "       -0.15317512,  0.46506247, -0.06461881, -0.16258173,  0.04367922,\n",
       "        0.07391487, -0.11443073,  0.10074348, -0.21382263, -0.09819753,\n",
       "       -0.08175144,  0.11380614, -0.23826218, -0.10316968,  0.02179033,\n",
       "        0.56094003,  0.38462549, -0.07168477,  0.03599453,  0.05747214,\n",
       "        0.03534822,  0.21685144,  0.22301213, -0.24693047,  0.08310733,\n",
       "        0.15104294, -0.28535575, -0.14257227, -0.20937109, -0.17504968,\n",
       "       -0.11800794, -0.20534362, -0.28418896, -0.30672371,  0.26851285,\n",
       "        0.19652994, -0.1296621 ,  0.06897347, -0.0560929 , -0.11013362,\n",
       "       -0.33124009, -0.04735569, -0.23318291,  0.1254994 , -0.40196931,\n",
       "        0.18507624,  0.15301687,  0.18976556,  0.00839559,  0.05045646,\n",
       "       -0.05375823, -0.19243141,  0.14916071,  0.34199166,  0.05877883,\n",
       "       -0.07616471,  0.40192667, -0.07072108, -0.19783837,  0.32612795,\n",
       "       -0.30007264, -0.03337847, -0.04851275, -0.02814967, -0.13150671,\n",
       "        0.24046795, -0.03391574, -0.05125742, -0.46976143, -0.35509554,\n",
       "       -0.29242954,  0.09609417, -0.06066607,  0.05986643,  0.14963232,\n",
       "       -0.06544241,  0.01610324, -0.16257726,  0.09924753,  0.11320215,\n",
       "        0.17174299, -0.22859189, -0.07946602, -0.25003955, -0.03614611,\n",
       "       -0.1277366 , -0.08988257,  0.21409924, -0.02549593,  0.19851178,\n",
       "        0.36306909,  0.01052848,  0.33158657, -0.10219152,  0.22120745,\n",
       "       -0.0653793 ,  0.15235531,  0.11366638,  0.04124872, -0.22565041], dtype=float32)"
      ]
     },
     "execution_count": 27,
     "metadata": {},
     "output_type": "execute_result"
    }
   ],
   "source": [
    "model.wv['менеджер']"
   ]
  },
  {
   "cell_type": "code",
   "execution_count": 48,
   "metadata": {
    "collapsed": true
   },
   "outputs": [],
   "source": [
    "def get_w2v_vectors(q):\n",
    "    \"\"\"Получает вектор документа\"\"\"\n",
    "    new_q = preprocessing(q, russian_stopwords)\n",
    "    vector = np.zeros(300)\n",
    "    \n",
    "    tfidf = {}\n",
    "    for key, value in enumerate(vectorizer.transform([new_q]).toarray()[0]):\n",
    "        if value != 0:\n",
    "            tfidf[key] = value\n",
    "    \n",
    "    for word in new_q.split():\n",
    "        try:\n",
    "            vector += model.wv[word] * tfidf[vectorizer.vocabulary_[word]]\n",
    "        except KeyError:\n",
    "            pass\n",
    "    if len(new_q) > 0:\n",
    "        return (vector / len(new_q)).tolist()\n",
    "    return np.zeros(300).tolist()\n",
    "        \n",
    "\n",
    "def save_w2v_base(corpus):\n",
    "    \"\"\"Индексирует всю базу для поиска через word2vec\"\"\"\n",
    "    w2v_base = []\n",
    "    for text in tqdm(corpus):\n",
    "        vector = get_w2v_vectors(text)\n",
    "        w2v_base.append(vector)\n",
    "    return w2v_base"
   ]
  },
  {
   "cell_type": "code",
   "execution_count": 45,
   "metadata": {},
   "outputs": [
    {
     "data": {
      "text/plain": [
       "[array([  9.24988817e-04,  -2.43970742e-03,  -2.02903102e-03,\n",
       "         -1.03514835e-03,  -9.85405251e-04,  -2.35818753e-03,\n",
       "         -5.76676105e-04,  -1.40639352e-03,   1.13961237e-03,\n",
       "         -1.00858823e-03,  -1.36542582e-03,  -8.73678781e-04,\n",
       "         -7.23900340e-04,  -2.64275364e-04,  -6.86114122e-04,\n",
       "         -7.76953119e-04,   3.14956547e-04,   2.10097198e-03,\n",
       "          2.19602776e-04,  -2.28190543e-03,  -1.63405162e-03,\n",
       "         -4.31618405e-04,   1.27015824e-03,  -1.96312886e-03,\n",
       "          3.61811976e-04,   1.19152157e-04,   9.36302677e-04,\n",
       "          7.80963828e-04,  -1.01401274e-03,  -1.01266730e-03,\n",
       "         -8.22583074e-04,  -1.41372507e-03,  -1.25981420e-03,\n",
       "         -2.45743873e-04,   1.38395940e-03,  -4.85948608e-04,\n",
       "         -2.62771495e-03,   4.15546177e-03,   4.73962031e-04,\n",
       "          1.31547595e-03,   1.02564349e-03,  -2.69248630e-03,\n",
       "         -1.62139236e-03,   2.90814463e-03,  -2.10766106e-03,\n",
       "          5.59170993e-05,   9.37736119e-05,  -4.76548417e-04,\n",
       "         -1.61193439e-03,  -1.62500197e-03,   1.06480955e-03,\n",
       "         -4.70972140e-05,  -1.64008701e-03,  -7.27443056e-04,\n",
       "         -2.04561111e-03,  -9.70201928e-04,  -1.42438147e-03,\n",
       "          3.45625387e-03,  -9.47139383e-04,  -7.55662849e-04,\n",
       "          9.96807353e-04,   2.01916610e-03,  -2.71587492e-03,\n",
       "         -1.66695503e-03,   6.25621121e-04,   3.80294364e-03,\n",
       "         -2.74055073e-03,   6.28200551e-04,  -1.37833341e-03,\n",
       "          1.41117317e-04,  -7.57411201e-04,   2.74601382e-03,\n",
       "          1.32619603e-03,   1.67700041e-04,   2.51954023e-03,\n",
       "          6.74401960e-04,   2.05125574e-03,  -1.47137527e-03,\n",
       "          3.58578343e-03,   3.43678043e-03,   1.79168215e-03,\n",
       "         -2.66881076e-03,   1.17197029e-03,   1.39173633e-03,\n",
       "          9.93277706e-04,   1.00856555e-03,   5.74550825e-04,\n",
       "         -4.13861051e-07,  -5.67679183e-04,   6.82006839e-04,\n",
       "          3.06185062e-03,  -6.53206193e-05,  -5.43558029e-04,\n",
       "          5.21734595e-04,  -5.10350491e-04,  -8.87560740e-04,\n",
       "          6.22506309e-04,   1.23486701e-03,  -4.16952212e-04,\n",
       "          2.08051501e-04,  -3.52481877e-03,   7.70700678e-04,\n",
       "         -6.45348788e-04,  -1.23551404e-03,  -5.22480540e-04,\n",
       "          8.73831959e-04,   3.44966814e-04,   3.00913772e-04,\n",
       "          2.93610895e-04,  -1.72009576e-04,  -2.52938752e-03,\n",
       "          5.17790341e-05,  -4.80006223e-04,   6.07005001e-04,\n",
       "         -1.91562862e-03,   5.29858466e-04,  -2.06731386e-03,\n",
       "         -2.59641464e-03,   9.12320153e-05,  -1.34927672e-03,\n",
       "          2.04911880e-04,  -6.01163333e-04,  -6.65731421e-05,\n",
       "         -2.40308551e-03,   4.99505879e-04,   5.51458324e-04,\n",
       "          2.40635276e-03,  -2.91580607e-03,   1.06100614e-03,\n",
       "          2.49695384e-04,   2.08669642e-03,   4.61840485e-04,\n",
       "          1.94606244e-03,   2.59861194e-03,  -2.74195347e-03,\n",
       "         -6.17641848e-04,   7.74867688e-04,  -3.69143509e-04,\n",
       "         -3.34225815e-04,   1.69055496e-04,  -3.67601463e-04,\n",
       "         -1.32208252e-04,  -1.25144029e-03,   1.62006245e-03,\n",
       "          3.43723779e-03,   5.57850453e-03,  -3.17673630e-04,\n",
       "          4.90076215e-04,  -2.33781534e-03,   9.35734485e-05,\n",
       "          2.96457830e-03,  -2.29799595e-03,  -7.49155645e-04,\n",
       "          8.26916085e-04,  -4.72410262e-04,   2.68839627e-05,\n",
       "          1.46774959e-03,  -2.23113200e-04,  -2.07142027e-03,\n",
       "         -5.68559059e-03,  -2.10808761e-03,  -3.06969242e-03,\n",
       "          4.14543964e-06,  -1.36990147e-03,   9.15765200e-04,\n",
       "          1.22402009e-03,  -1.21920756e-03,   5.65110234e-04,\n",
       "         -9.16113078e-04,   2.79627952e-04,  -1.36024697e-03,\n",
       "          2.35674353e-03,  -3.09338434e-04,   9.73151853e-04,\n",
       "         -9.86095179e-04,  -8.68957684e-04,   2.54018496e-03,\n",
       "          1.82269621e-03,   2.05569258e-03,   2.58947617e-03,\n",
       "          6.34705537e-04,   8.64287826e-04,   2.19984837e-04,\n",
       "         -7.68312272e-04,  -1.39345930e-03,  -1.00674403e-03,\n",
       "          4.34147272e-04,  -2.26588051e-03,   4.02818772e-03,\n",
       "         -2.24746211e-03,  -6.24632802e-04,  -1.79892820e-03,\n",
       "          1.42769694e-03,  -4.86114198e-04,  -2.44190193e-03,\n",
       "          1.19473848e-03,   4.88189057e-04,  -5.74561887e-03,\n",
       "          3.10879265e-03,   1.44468647e-04,  -2.13206883e-03,\n",
       "          3.92613175e-03,  -1.15457052e-03,   1.00447453e-04,\n",
       "          1.59962710e-03,   1.90978078e-03,   1.22477674e-04,\n",
       "         -1.25636338e-03,  -1.05067775e-03,  -1.85499655e-03,\n",
       "          1.98986946e-03,   1.04611775e-03,  -1.17501362e-03,\n",
       "          5.41260964e-04,   6.71081008e-04,   2.70587639e-03,\n",
       "          6.48479432e-03,  -2.81535211e-03,  -4.38761832e-04,\n",
       "          2.46981980e-05,  -2.27073920e-04,   1.78870715e-03,\n",
       "          1.22740796e-04,  -3.70128222e-03,  -1.49414957e-03,\n",
       "          2.05045934e-03,  -3.94793109e-03,   7.34574235e-04,\n",
       "         -9.47669363e-04,   8.44823279e-04,  -6.50388143e-04,\n",
       "         -1.18869033e-03,  -1.00909684e-03,  -2.27553082e-03,\n",
       "          1.53007076e-03,  -1.02547379e-03,  -2.01694402e-03,\n",
       "          7.11345580e-04,  -1.72754377e-03,  -2.38198191e-03,\n",
       "         -1.63571282e-03,  -5.84371478e-05,  -1.20716138e-04,\n",
       "          2.22928956e-03,  -1.89881807e-03,   1.01854886e-04,\n",
       "         -1.09777304e-03,   1.60508431e-03,   1.24416300e-03,\n",
       "         -8.46133228e-04,  -1.18107459e-03,  -1.04509537e-03,\n",
       "         -2.18957413e-03,   1.78137319e-03,   8.03216757e-04,\n",
       "          5.43190054e-05,   3.65701553e-03,  -9.31348716e-04,\n",
       "         -9.10761969e-05,   1.05418357e-03,  -4.42092141e-04,\n",
       "          1.47193610e-03,   2.34067221e-03,  -8.39483861e-04,\n",
       "         -5.70198375e-04,   2.27956138e-03,  -5.17998506e-04,\n",
       "          2.26580208e-03,  -1.26858326e-03,  -2.68933347e-03,\n",
       "         -7.50035664e-04,   6.32387847e-04,  -3.62816982e-04,\n",
       "          8.21610148e-04,  -4.06620353e-04,   1.37856432e-03,\n",
       "          1.09055336e-03,  -1.13325948e-03,  -9.78342395e-04,\n",
       "          2.81268639e-05,   1.52243040e-03,  -3.43796751e-04,\n",
       "          2.43772526e-04,  -3.78541726e-03,  -3.08689780e-04,\n",
       "         -3.32778597e-03,  -2.69276624e-03,   3.63310923e-03,\n",
       "         -2.24695034e-03,   1.17829985e-03,   8.84145730e-04,\n",
       "          1.69641167e-03,   4.20345850e-03,  -5.34366173e-04,\n",
       "          9.05619243e-04,  -1.70812931e-04,   8.72953087e-05,\n",
       "         -2.99032261e-05,  -2.40743681e-03,  -2.57119137e-03]),\n",
       " array([ 0.0055603 ,  0.00319297, -0.01915979, -0.01345037, -0.01056445,\n",
       "        -0.01950001, -0.01039744, -0.00204409,  0.0025127 ,  0.01060343,\n",
       "         0.00035447, -0.00776032,  0.00378694, -0.01085407, -0.00982728,\n",
       "        -0.02648075, -0.00243482,  0.0003397 , -0.01263576, -0.0258973 ,\n",
       "        -0.01671877, -0.00504241,  0.01106399, -0.02355361, -0.00942658,\n",
       "        -0.01375572, -0.00564326,  0.00476426, -0.00223654, -0.02024994,\n",
       "         0.00126417, -0.03224955, -0.03817224, -0.00293155, -0.01176052,\n",
       "        -0.00543486, -0.00738517,  0.02653537,  0.0176058 ,  0.00114727,\n",
       "        -0.00790537, -0.00177287,  0.00069551,  0.0062574 , -0.02183678,\n",
       "         0.00303606,  0.01085354, -0.00874125, -0.00960836, -0.02821417,\n",
       "         0.01765278,  0.00161262, -0.03342703, -0.01942774, -0.01160005,\n",
       "        -0.01711285, -0.02310636,  0.01369022, -0.0186417 , -0.01251928,\n",
       "         0.00359743, -0.01264324,  0.00032905, -0.01725826, -0.00917304,\n",
       "        -0.00651056,  0.00020738,  0.00417827, -0.01498671, -0.015181  ,\n",
       "         0.00040643,  0.0115994 ,  0.01563983, -0.01964449,  0.02064796,\n",
       "        -0.00594094,  0.02010895, -0.00284315, -0.00425221,  0.025227  ,\n",
       "         0.04019533, -0.0147275 ,  0.01374665,  0.00991941, -0.00385637,\n",
       "        -0.01982145,  0.01818785, -0.02122103, -0.00020429, -0.01685872,\n",
       "         0.0334692 , -0.01289727, -0.00223901,  0.0105858 , -0.00864019,\n",
       "         0.00983695,  0.00667857, -0.00478804, -0.00175012,  0.00264004,\n",
       "         0.01226902, -0.00662387,  0.00237322, -0.00150409,  0.00596574,\n",
       "         0.00893174,  0.0027597 , -0.01092083,  0.0004403 , -0.01046617,\n",
       "        -0.00050888, -0.01728847, -0.00818585, -0.01652652, -0.00785196,\n",
       "         0.00710743, -0.0010711 ,  0.01669446,  0.03901105, -0.00680437,\n",
       "        -0.00020839,  0.00474537,  0.00030449,  0.008248  ,  0.00335515,\n",
       "         0.00249214,  0.01868165, -0.03249913,  0.00226315,  0.00963169,\n",
       "         0.004207  ,  0.00544754,  0.02685371,  0.02815781,  0.00333807,\n",
       "        -0.01617338,  0.00122815,  0.00685519, -0.00708561,  0.00870743,\n",
       "         0.00136574,  0.01107444, -0.0008449 ,  0.00109404,  0.00348256,\n",
       "         0.00710992, -0.01119639, -0.00594564, -0.01264868,  0.00732764,\n",
       "         0.01086915, -0.01152106,  0.00012507, -0.01155966,  0.00904308,\n",
       "         0.00802154,  0.00461191, -0.00047258, -0.02136863, -0.05403546,\n",
       "         0.00717748, -0.03237872,  0.00464766, -0.01299867,  0.03447679,\n",
       "        -0.01237133,  0.00108988,  0.01541311, -0.00849128, -0.01965481,\n",
       "        -0.00324184,  0.0009262 ,  0.00381718, -0.00076791, -0.00944352,\n",
       "        -0.00763252,  0.00877869,  0.00963743,  0.00549879,  0.01458275,\n",
       "        -0.00369392, -0.00609474,  0.03375347,  0.00449284,  0.00463456,\n",
       "        -0.0126802 ,  0.00805264, -0.01827687,  0.02747315, -0.04599428,\n",
       "         0.00759266, -0.01817377,  0.00459102, -0.01595149, -0.01149458,\n",
       "        -0.00818118,  0.00545272, -0.05230678,  0.02133603, -0.00325996,\n",
       "        -0.01091527,  0.02738821, -0.00363087,  0.00111201,  0.01366362,\n",
       "        -0.00561452, -0.00309213, -0.01225919, -0.00610613, -0.00059159,\n",
       "         0.01263232,  0.03458772,  0.00584519, -0.01236397, -0.01383416,\n",
       "         0.02472232,  0.00702065, -0.02122029,  0.01676673, -0.00142923,\n",
       "        -0.01363172,  0.02927815, -0.01562566, -0.00412543, -0.00436013,\n",
       "        -0.01316555, -0.00031916,  0.00632085,  0.0239413 ,  0.02389376,\n",
       "         0.00263915,  0.02587275, -0.01308372, -0.00693655, -0.01416504,\n",
       "        -0.01463298,  0.01300468,  0.02052674, -0.00143551,  0.01952997,\n",
       "        -0.00449155,  0.00672775,  0.0015865 ,  0.02563057, -0.01538626,\n",
       "         0.00141611,  0.00152723,  0.00785999, -0.00045498, -0.02226628,\n",
       "        -0.02243911,  0.00456225, -0.00423993,  0.00427829,  0.01944217,\n",
       "         0.02813983,  0.00822664, -0.0008144 , -0.02583484,  0.01016052,\n",
       "         0.00150548,  0.0305168 ,  0.02954551, -0.01031503, -0.00775033,\n",
       "         0.02458949, -0.01831761,  0.0355197 , -0.01184352,  0.00563561,\n",
       "        -0.02962999, -0.00129801,  0.01313838, -0.0044829 , -0.02419223,\n",
       "         0.00367062,  0.0354679 , -0.02030742, -0.01062041,  0.00074385,\n",
       "        -0.01971039,  0.00895797,  0.01233648, -0.02467617, -0.00718207,\n",
       "        -0.02172481, -0.01561305,  0.0025048 , -0.01611789,  0.01481484,\n",
       "        -0.00284814,  0.00785164,  0.01873898, -0.00836646,  0.00798868,\n",
       "        -0.01897733,  0.01765572,  0.0043001 ,  0.01450821, -0.01405206])]"
      ]
     },
     "execution_count": 45,
     "metadata": {},
     "output_type": "execute_result"
    }
   ],
   "source": [
    "w2v_base[0:2]"
   ]
  },
  {
   "cell_type": "code",
   "execution_count": 49,
   "metadata": {},
   "outputs": [
    {
     "data": {
      "text/plain": [
       "A Jupyter Widget"
      ]
     },
     "metadata": {},
     "output_type": "display_data"
    },
    {
     "name": "stdout",
     "output_type": "stream",
     "text": [
      "\n"
     ]
    }
   ],
   "source": [
    "w2v_base = save_w2v_base(corpus)"
   ]
  },
  {
   "cell_type": "code",
   "execution_count": 50,
   "metadata": {
    "collapsed": true
   },
   "outputs": [],
   "source": [
    "with open('w2v_base.json','w') as f:\n",
    "    json.dump(w2v_base, f, ensure_ascii=False)"
   ]
  },
  {
   "cell_type": "code",
   "execution_count": 139,
   "metadata": {
    "collapsed": true
   },
   "outputs": [],
   "source": [
    "def w2v_sim(q, w2v_base):\n",
    "    vector = get_w2v_vectors(q)\n",
    "    \n",
    "    res = defaultdict(int)\n",
    "    for i, base_vec in enumerate(w2v_base):\n",
    "        #print(i, base_vec)\n",
    "        res[i] = 1 - spatial.distance.cosine(vector, base_vec)\n",
    "\n",
    "    top = sorted(res, key=res.get, reverse=True)[:10]\n",
    "    print(top)\n",
    "\n",
    "    for el in top:\n",
    "        print(el, res[el])\n",
    "        print(data['title'][el] + data['text'][el])\n",
    "   "
   ]
  },
  {
   "cell_type": "code",
   "execution_count": 140,
   "metadata": {},
   "outputs": [
    {
     "name": "stderr",
     "output_type": "stream",
     "text": [
      "C:\\Users\\zhenya\\A3\\lib\\site-packages\\scipy\\spatial\\distance.py:505: RuntimeWarning: invalid value encountered in double_scalars\n",
      "  dist = 1.0 - np.dot(u, v) / (norm(u) * norm(v))\n"
     ]
    },
    {
     "name": "stdout",
     "output_type": "stream",
     "text": [
      "[5779, 8405, 2623, 853, 1122, 3686, 7215, 966, 5266, 2196]\n",
      "5779 0.729568504796\n",
      "Кассир-стажер (без опыта, выплаты еженедельно)\n",
      "8405 0.721348033247\n",
      "БухгалтерОписание работодателя:В Компанию требуется бухгалтер , с образованием (бухгалтерским ) Знание и умение работать на всех участках бухгалтерии. Опыт работы минимум 1 год. Желательно с знанием английского языка.\n",
      "Требования: Строительная фирма \"ВК строй\".\n",
      "5 дней работы в неделю.С \n",
      "Обязанности:Бухгалтерский учет,проверять  документы,подачи документов,встреча с другими компаниями,счета-фактуры,проверять соглашения\n",
      "Условия:\n",
      "2623 0.708425030814\n",
      "Бухгалтер с опытом от 3 летОписание работодателя: Юридическая фирма РЕГИСТРАЛ, которая обслуживает компании различной формы собственности\n",
      "\n",
      "Требования: высшее образование (бухгалтер, экономист), опыт от 3 лет\n",
      "\n",
      "Обязанности: знание 1С, полное ведение бухгалтерского учёта по всем участкам (зарплата, касса, расчёты с поставщиками и другие), умение вести компании на УСН, ОСНО и специальных режимах налогообложения и сдача по ним  отчётности.\n",
      "\n",
      "Условия: полный день с 9 до 18, работа по ТК и ТД, оплачиваемые отпускные и больничные, зарплата проговаривается по результатам собеседования.\n",
      "853 0.707465857628\n",
      "Фин директор-главбухАгенству по организации праздников требуется финансовый директор и главный бухгалтер в одном лице.Ведение нескольких юр лиц. Требование : быстрота мышления и принятия решения,обязательно опыт руководящей работы, пунктуальность, сосредоточенность,желание учиться и узнавать,знание енвд, работа с НДС, упращенка и ип, сотрудники. \n",
      "Работа строго в офисе с 11 до 20. Отчёт в налоговую и ведение первички. Трудоустройство официально. Зп. Оклад 100 000 + премии 50 000Только с большим опытом.Все предложения присылайте на воцап\n",
      "1122 0.705043979077\n",
      "Продавец-консультант\n",
      "3686 0.696400770392\n",
      "БухгалтерОписание работодателя:В небольшую строительную фирму требуется Бухгалтер с высшим профильным образованием\n",
      "Требования:Опыт от 10 лет.\n",
      "Обязанности: Ведение бухгалтерии, отчетность и т.д.\n",
      "Условия:З/П и график обсуждается на собеседовании\n",
      "7215 0.691354363232\n",
      "Бухгалтер по строительно монтажным работам\n",
      "966 0.689777911306\n",
      "БухгалтерОписание работодателя: \n",
      "Наша компания занимается деятельностью такси, а также ремонтом автомобилей в собственном автосервисе.\n",
      "\n",
      "Требования: \n",
      "- Знание бухгалтерского и налогового учета, программ 1С и т.д.\n",
      "- Хорошие знания систем НДС и УСН\n",
      "- Знание основ Кассовой дисциплины\n",
      "- Опыт работы в схожей сфере деятельности обязателен!\n",
      "\n",
      "Обязанности: \n",
      "- Налоговый и бухгалтерский учет\n",
      "- Ведение управленческого учета \n",
      "- Взаимодействие с банками, ИФНС и другими инстанциями\n",
      "- Контроль за финансовыми потоками организации\n",
      "\n",
      "Условия: \n",
      "- Полный рабочий день 5/2, соц. пакет\n",
      "- Работа в округе САО (район Ховрино)\n",
      "- З/п по результатам собеседования \n",
      "\n",
      "Для соискателей просьба присылать резюме.\n",
      "5266 0.689202497166\n",
      "Бухгалтер в единственном лицеОписание работодателя: \n",
      "Требования: высшее образование (бухгалтер), опыт от 3 лет\n",
      "Обязанности: знание 1С, полное ведение бухгалтерского учёта по всем участкам (зарплата, касса, расчёты с поставщиками и другие), умение вести компании на  ОСНО и сдача по ним от первички до отчетности.\n",
      "Условия: полный день с 9 до 18, работа по ТК и ТД, оплачиваемые отпускные и больничные.\n",
      "2196 0.686262694947\n",
      "Помощник бухгалтераОписание работодателя: в общепит требуется помощник бухгалтера на ввод первичной документации и проведение ревизий.\n",
      "Требования: опыт работы в общепите, желателен опыт работы с iiko или rkeeper\n",
      "Обязанности: ввод первичной документации, ввод и разбор ревизий.\n",
      "Условия: 3 рабочих дня в неделю. С 9-18. Обеды на предприятии.\n"
     ]
    }
   ],
   "source": [
    "w2v_sim('бухгалтер без опыта', w2v_base)"
   ]
  },
  {
   "cell_type": "markdown",
   "metadata": {},
   "source": [
    "## DOC2VEC"
   ]
  },
  {
   "cell_type": "code",
   "execution_count": 155,
   "metadata": {},
   "outputs": [
    {
     "data": {
      "text/plain": [
       "A Jupyter Widget"
      ]
     },
     "metadata": {},
     "output_type": "display_data"
    }
   ],
   "source": [
    "documents = [TaggedDocument(doc, [i]) for i, doc in tqdm(enumerate(corpus))]\n",
    "d2v_model = Doc2Vec(documents, vector_size=100, min_count=0, alpha=0.025, min_alpha=0.025, epochs=100)"
   ]
  },
  {
   "cell_type": "code",
   "execution_count": 156,
   "metadata": {},
   "outputs": [
    {
     "data": {
      "text/plain": [
       "<gensim.models.doc2vec.Doc2Vec at 0x2a31f790d30>"
      ]
     },
     "execution_count": 156,
     "metadata": {},
     "output_type": "execute_result"
    }
   ],
   "source": [
    "d2v_model"
   ]
  },
  {
   "cell_type": "code",
   "execution_count": 157,
   "metadata": {
    "collapsed": true
   },
   "outputs": [],
   "source": [
    "def save_d2v_base(corpus):\n",
    "    d2v_base = []\n",
    "    for text in tqdm(corpus):\n",
    "        vector = d2v_model.infer_vector(preprocessing_query(text))\n",
    "        d2v_base.append(vector)\n",
    "    return d2v_base\n",
    "    "
   ]
  },
  {
   "cell_type": "code",
   "execution_count": 158,
   "metadata": {},
   "outputs": [
    {
     "data": {
      "text/plain": [
       "A Jupyter Widget"
      ]
     },
     "metadata": {},
     "output_type": "display_data"
    }
   ],
   "source": [
    "d2v_base = save_d2v_base(corpus)"
   ]
  },
  {
   "cell_type": "code",
   "execution_count": 163,
   "metadata": {
    "collapsed": true
   },
   "outputs": [],
   "source": [
    "def d2v_sim(q, d2v_base):\n",
    "    vector = d2v_model.infer_vector(preprocessing_query(q))\n",
    "    \n",
    "    res = defaultdict(int)\n",
    "    for i, base_vec in enumerate(d2v_base):\n",
    "        #print(i, base_vec)\n",
    "        res[i] = 1 - spatial.distance.cosine(vector, base_vec)\n",
    "\n",
    "    top = sorted(res, key=res.get, reverse=True)[:10]\n",
    "    print(top)\n",
    "\n",
    "    for el in top:\n",
    "        print(el, res[el])\n",
    "        print(data['title'][el] + data['text'][el])"
   ]
  },
  {
   "cell_type": "code",
   "execution_count": 170,
   "metadata": {},
   "outputs": [
    {
     "name": "stdout",
     "output_type": "stream",
     "text": [
      "[2833, 2391, 4069, 1370, 1149, 7860, 1439, 1664, 5674, 9198]\n",
      "2833 0.323804793579\n",
      "Кассир\n",
      "2391 0.312569395603\n",
      "ОтделочникиОписание работодателя: на отделку квартир требуются отделочники (совмещение приветствуется).\n",
      "Требования: опыт работы \n",
      "Обязанности: выполнять работы качественно с соблюдением технологии и строительных норм\n",
      "Условия: оплата сдельная\n",
      "4069 0.311581894626\n",
      "Ремонт собственной квартирыНужен ремонт собственной двухкомнатной квартиры под ключ. \n",
      "Качественно в срок. Площадь 67м2 вторичного дома.\n",
      "Ответственность и исполнительность специалистов обязательно. \n",
      "Готов посмотреть ремонт на примере вашей работы.\n",
      "\n",
      "Хорошая оплата труда.\n",
      "1370 0.306709402728\n",
      "Кассир (частичная занятость)\n",
      "1149 0.303545667246\n",
      "Требуется продавец в булочнуюОписание работодателя: ИП\n",
      "Требования:\n",
      "Обязанности:\n",
      "Условия:\n",
      "7860 0.294992261726\n",
      "Охранник (г.Красногорск)\n",
      "1439 0.288270634361\n",
      "Продавец-консультант в салон сотовой связи Билайн\n",
      "1664 0.280539892897\n",
      "ОхранникОписание работодателя: В ООО ЧОО \"Альфа-ПСК\"требуются сотрудники охраны с лицензией. Смена от 1800 сутки чистыми на руки после вахты .\n",
      "5674 0.279966816014\n",
      "Охранник на вахту в Многофункциональный комплекс\n",
      "9198 0.275240594976\n",
      "Водитель самосвалаТребуется водитель на Мерседес Актрос самосвал  Проживание в общежитии на территории базирования техники. Требуется содержание техники в рабочем состоянии. Работа вахтой, зарплата от 70000р. График гибкий.\n"
     ]
    }
   ],
   "source": [
    "d2v_sim('ищу работу учителем', d2v_base)"
   ]
  },
  {
   "cell_type": "code",
   "execution_count": 35,
   "metadata": {
    "collapsed": true
   },
   "outputs": [],
   "source": [
    "with open ('vectorizer', 'rb') as f:\n",
    "    vectorizer = pickle.load(f)"
   ]
  },
  {
   "cell_type": "code",
   "execution_count": null,
   "metadata": {
    "collapsed": true
   },
   "outputs": [],
   "source": []
  }
 ],
 "metadata": {
  "kernelspec": {
   "display_name": "Python 3",
   "language": "python",
   "name": "python3"
  },
  "language_info": {
   "codemirror_mode": {
    "name": "ipython",
    "version": 3
   },
   "file_extension": ".py",
   "mimetype": "text/x-python",
   "name": "python",
   "nbconvert_exporter": "python",
   "pygments_lexer": "ipython3",
   "version": "3.6.2"
  }
 },
 "nbformat": 4,
 "nbformat_minor": 2
}
